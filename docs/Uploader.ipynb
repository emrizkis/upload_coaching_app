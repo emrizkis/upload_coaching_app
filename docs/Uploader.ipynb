{
 "cells": [
  {
   "cell_type": "code",
   "execution_count": 11,
   "metadata": {},
   "outputs": [],
   "source": [
    "import pandas as pd"
   ]
  },
  {
   "cell_type": "code",
   "execution_count": 14,
   "metadata": {},
   "outputs": [],
   "source": [
    "coaching = pd.read_excel(\"TEMPLATE_UNGGAH_HISTORY_COACHING.xlsx\")"
   ]
  },
  {
   "cell_type": "code",
   "execution_count": 23,
   "metadata": {},
   "outputs": [],
   "source": [
    "coaching.columns = coaching.iloc[2]\n",
    "# coaching.head(9)\n",
    "\n",
    "# coaching[\"No\"]\n"
   ]
  },
  {
   "cell_type": "code",
   "execution_count": 32,
   "metadata": {},
   "outputs": [
    {
     "name": "stdout",
     "output_type": "stream",
     "text": [
      "Character set 'utf8' unsupported\n"
     ]
    }
   ],
   "source": [
    "import mysql.connector as connection\n",
    "try:\n",
    "    mydb = connection.connect(host=\"localhost\", database = 'sdm', user=\"root\", passwd=\"\", port=3373, use_pure=True)\n",
    "    query = \"Select * from coaching;\"\n",
    "    result_dataFrame = pd.read_sql(query,mydb)\n",
    "    mydb.close() #close the connection\n",
    "except Exception as e:\n",
    "    # mydb.close()\n",
    "    print(str(e))"
   ]
  },
  {
   "cell_type": "code",
   "execution_count": 37,
   "metadata": {},
   "outputs": [
    {
     "name": "stdout",
     "output_type": "stream",
     "text": [
      "<mariadb.connection connected to 'localhost' at 000001DAF460A8A0>\n"
     ]
    }
   ],
   "source": [
    "import mariadb\n",
    "    \n",
    "mydb =  mariadb.connect(\n",
    "  host=\"localhost\",\n",
    "  port=3373,\n",
    "  user=\"root\",\n",
    "  password=\"\"\n",
    ")\n",
    "\n",
    "# query = \"Select * from coaching;\"\n",
    "# result_dataFrame = pd.read_sql(query,mydb)\n",
    "# mydb.close() #close the connection\n",
    "print(mydb)"
   ]
  },
  {
   "cell_type": "code",
   "execution_count": null,
   "metadata": {},
   "outputs": [],
   "source": []
  }
 ],
 "metadata": {
  "kernelspec": {
   "display_name": "myenv",
   "language": "python",
   "name": "myenv"
  },
  "orig_nbformat": 4,
  "vscode": {
   "interpreter": {
    "hash": "d65285ed42f2208cb36cef8090cc4bc797d179195ff65422706a22f0c035516a"
   }
  }
 },
 "nbformat": 4,
 "nbformat_minor": 2
}
